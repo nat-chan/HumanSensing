{
 "cells": [
  {
   "cell_type": "code",
   "execution_count": 0,
   "metadata": {
    "colab": {
     "autoexec": {
      "startup": false,
      "wait_interval": 0
     },
     "base_uri": "https://localhost:8080/",
     "height": 972,
     "output_extras": [
      {},
      {}
     ]
    },
    "colab_type": "code",
    "collapsed": true,
    "executionInfo": {
     "elapsed": 40337,
     "status": "ok",
     "timestamp": 1517903379689,
     "user": {
      "displayName": "Shunta Saito",
      "photoUrl": "//lh3.googleusercontent.com/-g04xgJXWJho/AAAAAAAAAAI/AAAAAAAAa4U/ziA9_Ms_-q0/s50-c-k-no/photo.jpg",
      "userId": "115134069711430507338"
     },
     "user_tz": -540
    },
    "id": "9Q3LQxIdVsOB",
    "outputId": "f0a3ef43-387c-411d-cfd2-74131e7793a8"
   },
   "outputs": [
    {
     "name": "stdout",
     "output_type": "stream",
     "text": [
      "Reading package lists... Done\n",
      "Building dependency tree       \n",
      "Reading state information... Done\n",
      "The following NEW packages will be installed:\n",
      "  libcusparse8.0 libnvrtc8.0 libnvtoolsext1\n",
      "0 upgraded, 3 newly installed, 0 to remove and 4 not upgraded.\n",
      "Need to get 28.9 MB of archives.\n",
      "After this operation, 71.6 MB of additional disk space will be used.\n",
      "Get:1 http://archive.ubuntu.com/ubuntu artful/multiverse amd64 libcusparse8.0 amd64 8.0.61-1 [22.6 MB]\n",
      "Get:2 http://archive.ubuntu.com/ubuntu artful/multiverse amd64 libnvrtc8.0 amd64 8.0.61-1 [6,225 kB]\n",
      "Get:3 http://archive.ubuntu.com/ubuntu artful/multiverse amd64 libnvtoolsext1 amd64 8.0.61-1 [32.2 kB]\n",
      "Fetched 28.9 MB in 1s (16.2 MB/s)\n",
      "\n",
      "\u001b7\u001b[0;23r\u001b8\u001b[1ASelecting previously unselected package libcusparse8.0:amd64.\n",
      "(Reading database ... 16633 files and directories currently installed.)\n",
      "Preparing to unpack .../libcusparse8.0_8.0.61-1_amd64.deb ...\n",
      "\u001b7\u001b[24;0f\u001b[42m\u001b[30mProgress: [  0%]\u001b[49m\u001b[39m [..........................................................] \u001b8\u001b7\u001b[24;0f\u001b[42m\u001b[30mProgress: [  6%]\u001b[49m\u001b[39m [###.......................................................] \u001b8Unpacking libcusparse8.0:amd64 (8.0.61-1) ...\n",
      "\u001b7\u001b[24;0f\u001b[42m\u001b[30mProgress: [ 12%]\u001b[49m\u001b[39m [#######...................................................] \u001b8\u001b7\u001b[24;0f\u001b[42m\u001b[30mProgress: [ 18%]\u001b[49m\u001b[39m [##########................................................] \u001b8Selecting previously unselected package libnvrtc8.0:amd64.\n",
      "Preparing to unpack .../libnvrtc8.0_8.0.61-1_amd64.deb ...\n",
      "\u001b7\u001b[24;0f\u001b[42m\u001b[30mProgress: [ 25%]\u001b[49m\u001b[39m [##############............................................] \u001b8Unpacking libnvrtc8.0:amd64 (8.0.61-1) ...\n",
      "\u001b7\u001b[24;0f\u001b[42m\u001b[30mProgress: [ 31%]\u001b[49m\u001b[39m [##################........................................] \u001b8\u001b7\u001b[24;0f\u001b[42m\u001b[30mProgress: [ 37%]\u001b[49m\u001b[39m [#####################.....................................] \u001b8Selecting previously unselected package libnvtoolsext1:amd64.\n",
      "Preparing to unpack .../libnvtoolsext1_8.0.61-1_amd64.deb ...\n",
      "\u001b7\u001b[24;0f\u001b[42m\u001b[30mProgress: [ 43%]\u001b[49m\u001b[39m [#########################.................................] \u001b8Unpacking libnvtoolsext1:amd64 (8.0.61-1) ...\n",
      "\u001b7\u001b[24;0f\u001b[42m\u001b[30mProgress: [ 50%]\u001b[49m\u001b[39m [#############################.............................] \u001b8\u001b7\u001b[24;0f\u001b[42m\u001b[30mProgress: [ 56%]\u001b[49m\u001b[39m [################################..........................] \u001b8Setting up libnvtoolsext1:amd64 (8.0.61-1) ...\n",
      "\u001b7\u001b[24;0f\u001b[42m\u001b[30mProgress: [ 62%]\u001b[49m\u001b[39m [####################################......................] \u001b8\u001b7\u001b[24;0f\u001b[42m\u001b[30mProgress: [ 68%]\u001b[49m\u001b[39m [#######################################...................] \u001b8Setting up libcusparse8.0:amd64 (8.0.61-1) ...\n",
      "\u001b7\u001b[24;0f\u001b[42m\u001b[30mProgress: [ 75%]\u001b[49m\u001b[39m [###########################################...............] \u001b8\u001b7\u001b[24;0f\u001b[42m\u001b[30mProgress: [ 81%]\u001b[49m\u001b[39m [###############################################...........] \u001b8Setting up libnvrtc8.0:amd64 (8.0.61-1) ...\n",
      "\u001b7\u001b[24;0f\u001b[42m\u001b[30mProgress: [ 87%]\u001b[49m\u001b[39m [##################################################........] \u001b8\u001b7\u001b[24;0f\u001b[42m\u001b[30mProgress: [ 93%]\u001b[49m\u001b[39m [######################################################....] \u001b8Processing triggers for libc-bin (2.26-0ubuntu2) ...\n",
      "\n",
      "\u001b7\u001b[0;24r\u001b8\u001b[1A\u001b[JCollecting cupy-cuda80==4.0.0b3 from https://github.com/kmaehashi/chainer-colab/releases/download/2018-02-06/cupy_cuda80-4.0.0b3-cp36-cp36m-linux_x86_64.whl\n",
      "  Downloading https://github.com/kmaehashi/chainer-colab/releases/download/2018-02-06/cupy_cuda80-4.0.0b3-cp36-cp36m-linux_x86_64.whl (205.2MB)\n",
      "\u001b[K    15% |████▉                           | 31.3MB 55.5MB/s eta 0:00:04\u001b[K    100% |████████████████████████████████| 205.2MB 7.0kB/s \n",
      "\u001b[?25hCollecting fastrlock>=0.3 (from cupy-cuda80==4.0.0b3)\n",
      "  Downloading fastrlock-0.3-cp36-cp36m-manylinux1_x86_64.whl (77kB)\n",
      "\u001b[K    100% |████████████████████████████████| 81kB 2.2MB/s \n",
      "\u001b[?25hRequirement already satisfied: numpy>=1.9.0 in /usr/local/lib/python3.6/dist-packages (from cupy-cuda80==4.0.0b3)\n",
      "Requirement already satisfied: six>=1.9.0 in /usr/local/lib/python3.6/dist-packages (from cupy-cuda80==4.0.0b3)\n",
      "Installing collected packages: fastrlock, cupy-cuda80\n",
      "Successfully installed cupy-cuda80-4.0.0b3 fastrlock-0.3\n",
      "Collecting chainer==4.0.0b3\n",
      "  Downloading chainer-4.0.0b3.tar.gz (366kB)\n",
      "\u001b[K    100% |████████████████████████████████| 368kB 2.3MB/s \n",
      "\u001b[?25hCollecting filelock (from chainer==4.0.0b3)\n",
      "  Downloading filelock-3.0.4.tar.gz\n",
      "Requirement already satisfied: numpy>=1.9.0 in /usr/local/lib/python3.6/dist-packages (from chainer==4.0.0b3)\n",
      "Requirement already satisfied: protobuf>=3.0.0 in /usr/local/lib/python3.6/dist-packages (from chainer==4.0.0b3)\n",
      "Requirement already satisfied: six>=1.9.0 in /usr/local/lib/python3.6/dist-packages (from chainer==4.0.0b3)\n",
      "Requirement already satisfied: setuptools in /usr/lib/python3/dist-packages (from protobuf>=3.0.0->chainer==4.0.0b3)\n",
      "Building wheels for collected packages: chainer, filelock\n",
      "  Running setup.py bdist_wheel for chainer ... \u001b[?25ldone\n",
      "\u001b[?25h  Stored in directory: /content/.cache/pip/wheels/ce/20/9f/4f7d6978c1a5f88bf2bb18d429998b85cf75cfe96315c7631b\n",
      "  Running setup.py bdist_wheel for filelock ... \u001b[?25ldone\n",
      "\u001b[?25h  Stored in directory: /content/.cache/pip/wheels/5f/5e/8a/9f1eb481ffbfff95d5f550570c1dbeff3c1785c8383c12c62b\n",
      "Successfully built chainer filelock\n",
      "Installing collected packages: filelock, chainer\n",
      "Successfully installed chainer-4.0.0b3 filelock-3.0.4\n"
     ]
    }
   ],
   "source": [
    "# Install Chainer and CuPy!\n",
    "\n",
    "!apt -y install libcusparse8.0 libnvrtc8.0 libnvtoolsext1\n",
    "!ln -snf /usr/lib/x86_64-linux-gnu/libnvrtc-builtins.so.8.0 /usr/lib/x86_64-linux-gnu/libnvrtc-builtins.so\n",
    "!pip install https://github.com/kmaehashi/chainer-colab/releases/download/2018-02-06/cupy_cuda80-4.0.0b3-cp36-cp36m-linux_x86_64.whl\n",
    "!pip install 'chainer==4.0.0b3'"
   ]
  },
  {
   "cell_type": "code",
   "execution_count": 1,
   "metadata": {
    "colab": {
     "autoexec": {
      "startup": false,
      "wait_interval": 0
     },
     "base_uri": "https://localhost:8080/",
     "height": 71,
     "output_extras": [
      {}
     ]
    },
    "colab_type": "code",
    "collapsed": true,
    "executionInfo": {
     "elapsed": 5233,
     "status": "ok",
     "timestamp": 1517903566063,
     "user": {
      "displayName": "Shunta Saito",
      "photoUrl": "//lh3.googleusercontent.com/-g04xgJXWJho/AAAAAAAAAAI/AAAAAAAAa4U/ziA9_Ms_-q0/s50-c-k-no/photo.jpg",
      "userId": "115134069711430507338"
     },
     "user_tz": -540
    },
    "id": "uYaWtlOpGMc1",
    "outputId": "3d3b5722-d7c5-4be7-e337-29ae74556846"
   },
   "outputs": [],
   "source": [
    "import numpy as np\n",
    "import chainer\n",
    "from chainer import cuda, Function, gradient_check, report, training, utils, Variable\n",
    "from chainer import datasets, iterators, optimizers, serializers\n",
    "from chainer import Link, Chain, ChainList\n",
    "import chainer.functions as F\n",
    "import chainer.links as L\n",
    "from chainer.training import extensions\n",
    "from chainer.datasets import mnist\n",
    "import matplotlib.pyplot as plt\n",
    "from PIL import Image\n",
    "%matplotlib inline"
   ]
  },
  {
   "cell_type": "code",
   "execution_count": 2,
   "metadata": {
    "colab": {
     "autoexec": {
      "startup": false,
      "wait_interval": 0
     },
     "base_uri": "https://localhost:8080/",
     "height": 51,
     "output_extras": [
      {
       "item_id": 1
      }
     ]
    },
    "colab_type": "code",
    "executionInfo": {
     "elapsed": 641,
     "status": "ok",
     "timestamp": 1517904454781,
     "user": {
      "displayName": "Shunta Saito",
      "photoUrl": "//lh3.googleusercontent.com/-g04xgJXWJho/AAAAAAAAAAI/AAAAAAAAa4U/ziA9_Ms_-q0/s50-c-k-no/photo.jpg",
      "userId": "115134069711430507338"
     },
     "user_tz": -540
    },
    "id": "1JQVbTdLJ2JB",
    "outputId": "dc6cd9c8-3131-4c0b-f57b-39eed513e0c5"
   },
   "outputs": [
    {
     "name": "stdout",
     "output_type": "stream",
     "text": [
      "GPU availability: True\n",
      "cuDNN availablility: True\n"
     ]
    }
   ],
   "source": [
    "print('GPU availability:', chainer.cuda.available)\n",
    "print('cuDNN availablility:', chainer.cuda.cudnn_enabled)"
   ]
  },
  {
   "cell_type": "code",
   "execution_count": 3,
   "metadata": {
    "colab": {
     "autoexec": {
      "startup": false,
      "wait_interval": 0
     }
    },
    "colab_type": "code",
    "collapsed": true,
    "id": "ONfS74LHGkBS"
   },
   "outputs": [],
   "source": [
    "train, test = mnist.get_mnist()\n",
    "\n",
    "batchsize = 128\n",
    "\n",
    "train_iter = iterators.SerialIterator(train, batchsize)\n",
    "test_iter = iterators.SerialIterator(test, batchsize, False, False)"
   ]
  },
  {
   "cell_type": "code",
   "execution_count": 4,
   "metadata": {
    "colab": {
     "autoexec": {
      "startup": false,
      "wait_interval": 0
     }
    },
    "colab_type": "code",
    "collapsed": true,
    "id": "JZFHYARDGp7y"
   },
   "outputs": [],
   "source": [
    "class MLP(Chain):\n",
    "\n",
    "    def __init__(self, n_mid_units=100, n_out=10):\n",
    "        super(MLP, self).__init__()\n",
    "        with self.init_scope():\n",
    "            self.l1 = L.Linear(None, n_mid_units)\n",
    "            self.l2 = L.Linear(None, n_mid_units)\n",
    "            self.l3 = L.Linear(None, n_out)\n",
    "\n",
    "    def __call__(self, x):\n",
    "        h1 = F.relu(self.l1(x))\n",
    "        h2 = F.relu(self.l2(h1))\n",
    "        return self.l3(h2)\n",
    "\n",
    "model = MLP()"
   ]
  },
  {
   "cell_type": "code",
   "execution_count": 21,
   "metadata": {
    "colab": {
     "autoexec": {
      "startup": false,
      "wait_interval": 0
     }
    },
    "colab_type": "code",
    "collapsed": true,
    "id": "km_YaPIfG5HN"
   },
   "outputs": [],
   "source": [
    "max_epoch = 10\n",
    "\n",
    "model = L.Classifier(model)\n",
    "\n",
    "gpu_id = 0  # Set to -1 if you use CPU\n",
    "if gpu_id >= 0:\n",
    "    model.to_gpu(gpu_id)  # If you use CPU, comment out this line\n",
    "\n",
    "# selection of your optimizing method\n",
    "optimizer = optimizers.MomentumSGD()\n",
    "\n",
    "# Give the optimizer a reference to the model\n",
    "optimizer.setup(model)\n",
    "\n",
    "# Get an updater that uses the Iterator and Optimizer\n",
    "updater = training.StandardUpdater(train_iter, optimizer, device=gpu_id)\n",
    "\n",
    "# Setup a Trainer\n",
    "trainer = training.Trainer(updater, (max_epoch, 'epoch'), out='mnist_result')"
   ]
  },
  {
   "cell_type": "code",
   "execution_count": 22,
   "metadata": {
    "colab": {
     "autoexec": {
      "startup": false,
      "wait_interval": 0
     }
    },
    "colab_type": "code",
    "collapsed": true,
    "id": "MdkorboDHEOR"
   },
   "outputs": [],
   "source": [
    "trainer.extend(extensions.LogReport())\n",
    "trainer.extend(extensions.snapshot(filename='snapshot_epoch-{.updater.epoch}'))\n",
    "trainer.extend(extensions.snapshot_object(model.predictor, filename='model_epoch-{.updater.epoch}'))\n",
    "trainer.extend(extensions.Evaluator(test_iter, model, device=gpu_id))\n",
    "trainer.extend(extensions.PrintReport(['epoch', 'main/loss', 'main/accuracy', 'validation/main/loss', 'validation/main/accuracy', 'elapsed_time']))\n",
    "trainer.extend(extensions.PlotReport(['main/loss', 'validation/main/loss'], x_key='epoch', file_name='loss.png'))\n",
    "trainer.extend(extensions.PlotReport(['main/accuracy', 'validation/main/accuracy'], x_key='epoch', file_name='accuracy.png'))\n",
    "trainer.extend(extensions.dump_graph('main/loss'))"
   ]
  },
  {
   "cell_type": "code",
   "execution_count": 23,
   "metadata": {
    "colab": {
     "autoexec": {
      "startup": false,
      "wait_interval": 0
     },
     "base_uri": "https://localhost:8080/",
     "height": 224,
     "output_extras": [
      {}
     ]
    },
    "colab_type": "code",
    "executionInfo": {
     "elapsed": 43610,
     "status": "ok",
     "timestamp": 1517903824865,
     "user": {
      "displayName": "Shunta Saito",
      "photoUrl": "//lh3.googleusercontent.com/-g04xgJXWJho/AAAAAAAAAAI/AAAAAAAAa4U/ziA9_Ms_-q0/s50-c-k-no/photo.jpg",
      "userId": "115134069711430507338"
     },
     "user_tz": -540
    },
    "id": "OJZSdANJHGVO",
    "outputId": "b2eb17bf-9c24-4cc1-b40f-157c48aac1c9"
   },
   "outputs": [
    {
     "name": "stdout",
     "output_type": "stream",
     "text": [
      "epoch       main/loss   main/accuracy  validation/main/loss  validation/main/accuracy  elapsed_time\n",
      "1           0.570037    0.835821       0.273419              0.920194                  3.6953        \n",
      "2           0.238146    0.930687       0.200935              0.940665                  6.52569       \n",
      "3           0.17904     0.948228       0.153941              0.953619                  9.3238        \n",
      "4           0.142458    0.958684       0.130232              0.960542                  12.1489       \n",
      "5           0.118986    0.965085       0.118132              0.964794                  15.1986       \n",
      "6           0.103165    0.969949       0.103958              0.969343                  18.2002       \n",
      "7           0.0897281   0.973881       0.0965577             0.970827                  20.9793       \n",
      "8           0.0797545   0.976512       0.0935598             0.971222                  23.8733       \n",
      "9           0.0711605   0.979261       0.088409              0.971717                  26.6778       \n",
      "10          0.0648822   0.981377       0.0861918             0.973101                  29.6712       \n"
     ]
    }
   ],
   "source": [
    "trainer.run()"
   ]
  },
  {
   "cell_type": "code",
   "execution_count": 41,
   "metadata": {
    "colab": {
     "autoexec": {
      "startup": false,
      "wait_interval": 0
     },
     "base_uri": "https://localhost:8080/",
     "height": 361,
     "output_extras": [
      {}
     ]
    },
    "colab_type": "code",
    "executionInfo": {
     "elapsed": 536,
     "status": "ok",
     "timestamp": 1517903828152,
     "user": {
      "displayName": "Shunta Saito",
      "photoUrl": "//lh3.googleusercontent.com/-g04xgJXWJho/AAAAAAAAAAI/AAAAAAAAa4U/ziA9_Ms_-q0/s50-c-k-no/photo.jpg",
      "userId": "115134069711430507338"
     },
     "user_tz": -540
    },
    "id": "6_jV6t2wHkPA",
    "outputId": "6aa3cc18-f03f-486e-e82b-901b8b958276"
   },
   "outputs": [
    {
     "data": {
      "image/png": "[encoded data removed]",
      "text/plain": [
       "<IPython.core.display.Image object>"
      ]
     },
     "execution_count": 41,
     "metadata": {},
     "output_type": "execute_result"
    }
   ],
   "source": [
    "from IPython.display import Image\n",
    "Image('mnist_result/loss.png')"
   ]
  },
  {
   "cell_type": "code",
   "execution_count": 42,
   "metadata": {
    "colab": {
     "autoexec": {
      "startup": false,
      "wait_interval": 0
     },
     "base_uri": "https://localhost:8080/",
     "height": 361,
     "output_extras": [
      {}
     ]
    },
    "colab_type": "code",
    "executionInfo": {
     "elapsed": 542,
     "status": "ok",
     "timestamp": 1517903838127,
     "user": {
      "displayName": "Shunta Saito",
      "photoUrl": "//lh3.googleusercontent.com/-g04xgJXWJho/AAAAAAAAAAI/AAAAAAAAa4U/ziA9_Ms_-q0/s50-c-k-no/photo.jpg",
      "userId": "115134069711430507338"
     },
     "user_tz": -540
    },
    "id": "n-p7ECwcHnGA",
    "outputId": "3786ab7d-137d-43a7-c3c2-7c27772fb365"
   },
   "outputs": [
    {
     "data": {
      "image/png": "[encoded data removed]",
      "text/plain": [
       "<IPython.core.display.Image object>"
      ]
     },
     "execution_count": 42,
     "metadata": {},
     "output_type": "execute_result"
    }
   ],
   "source": [
    "Image('mnist_result/accuracy.png')"
   ]
  },
  {
   "cell_type": "code",
   "execution_count": 79,
   "metadata": {},
   "outputs": [
    {
     "name": "stdout",
     "output_type": "stream",
     "text": [
      "label: 2\n",
      "inference: 2\n"
     ]
    },
    {
     "data": {
      "image/png": "[encoded data removed]",
      "text/plain": [
       "<matplotlib.figure.Figure at 0x1c9ab7df160>"
      ]
     },
     "metadata": {},
     "output_type": "display_data"
    }
   ],
   "source": [
    "from IPython.display import display\n",
    "model.to_cpu()\n",
    "\"\"\"\n",
    "学習済みモデルを使って、推論をしてみる。\n",
    "serializers.save_npz('my_mnist.model',model)\n",
    "\"\"\"\n",
    "\n",
    "img_flattened, label = train[5]\n",
    "img_reshaped = img_flattened.reshape(28,28)\n",
    "plt.imshow(img_reshaped ,cmap='Greys')\n",
    "print('label: %s' % label)\n",
    "\n",
    "res_var = model.predictor(img_flattened.reshape(1,28*28))\n",
    "res     = res_var.data.argmax()\n",
    "print('inference: %s' % res)"
   ]
  },
  {
   "cell_type": "code",
   "execution_count": 81,
   "metadata": {},
   "outputs": [
    {
     "name": "stdout",
     "output_type": "stream",
     "text": [
      "float32\n",
      "inference: 7\n"
     ]
    },
    {
     "data": {
      "image/png": "[encoded data removed]",
      "text/plain": [
       "<matplotlib.figure.Figure at 0x1c9a31afb38>"
      ]
     },
     "metadata": {},
     "output_type": "display_data"
    }
   ],
   "source": [
    "from PIL import Image\n",
    "my_test = Image.open('7_28x28.png').convert('L')\n",
    "my_test_arr = np.asarray(my_test)\n",
    "my_test_arr = (1 - my_test_arr/255).astype('float32')\n",
    "print(my_test_arr.dtype)\n",
    "plt.imshow(my_test_arr, cmap='Greys')\n",
    "res_var = model.predictor(my_test_arr.reshape(1,28*28))\n",
    "res     = res_var.data.argmax()\n",
    "print('inference: %s' % res)"
   ]
  },
  {
   "cell_type": "code",
   "execution_count": 80,
   "metadata": {
    "collapsed": true
   },
   "outputs": [],
   "source": [
    "model?"
   ]
  }
 ],
 "metadata": {
  "accelerator": "GPU",
  "colab": {
   "collapsed_sections": [],
   "default_view": {},
   "name": "Chainer MNIST Example.ipynb",
   "provenance": [],
   "version": "0.3.2",
   "views": {}
  },
  "kernelspec": {
   "display_name": "Python 3",
   "language": "python",
   "name": "python3"
  },
  "language_info": {
   "codemirror_mode": {
    "name": "ipython",
    "version": 3
   },
   "file_extension": ".py",
   "mimetype": "text/x-python",
   "name": "python",
   "nbconvert_exporter": "python",
   "pygments_lexer": "ipython3",
   "version": "3.6.1"
  }
 },
 "nbformat": 4,
 "nbformat_minor": 1
}
