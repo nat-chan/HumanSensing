{
 "cells": [
  {
   "cell_type": "code",
   "execution_count": 1,
   "metadata": {
    "colab": {
     "autoexec": {
      "startup": false,
      "wait_interval": 0
     },
     "base_uri": "https://localhost:8080/",
     "height": 71,
     "output_extras": [
      {}
     ]
    },
    "colab_type": "code",
    "executionInfo": {
     "elapsed": 5233,
     "status": "ok",
     "timestamp": 1517903566063,
     "user": {
      "displayName": "Shunta Saito",
      "photoUrl": "//lh3.googleusercontent.com/-g04xgJXWJho/AAAAAAAAAAI/AAAAAAAAa4U/ziA9_Ms_-q0/s50-c-k-no/photo.jpg",
      "userId": "115134069711430507338"
     },
     "user_tz": -540
    },
    "id": "uYaWtlOpGMc1",
    "outputId": "3d3b5722-d7c5-4be7-e337-29ae74556846"
   },
   "outputs": [],
   "source": [
    "import numpy as np\n",
    "import chainer\n",
    "from chainer import cuda, Function, gradient_check, report, training, utils, Variable\n",
    "from chainer import datasets, iterators, optimizers, serializers\n",
    "from chainer import Link, Chain, ChainList\n",
    "import chainer.functions as F\n",
    "import chainer.links as L\n",
    "from chainer.training import extensions\n",
    "from chainer.datasets import mnist\n",
    "import matplotlib.pyplot as plt\n",
    "from PIL import Image\n",
    "%matplotlib inline"
   ]
  },
  {
   "cell_type": "code",
   "execution_count": 2,
   "metadata": {
    "colab": {
     "autoexec": {
      "startup": false,
      "wait_interval": 0
     },
     "base_uri": "https://localhost:8080/",
     "height": 51,
     "output_extras": [
      {
       "item_id": 1
      }
     ]
    },
    "colab_type": "code",
    "executionInfo": {
     "elapsed": 641,
     "status": "ok",
     "timestamp": 1517904454781,
     "user": {
      "displayName": "Shunta Saito",
      "photoUrl": "//lh3.googleusercontent.com/-g04xgJXWJho/AAAAAAAAAAI/AAAAAAAAa4U/ziA9_Ms_-q0/s50-c-k-no/photo.jpg",
      "userId": "115134069711430507338"
     },
     "user_tz": -540
    },
    "id": "1JQVbTdLJ2JB",
    "outputId": "dc6cd9c8-3131-4c0b-f57b-39eed513e0c5"
   },
   "outputs": [
    {
     "name": "stdout",
     "output_type": "stream",
     "text": [
      "GPU availability: True\n",
      "cuDNN availablility: True\n"
     ]
    }
   ],
   "source": [
    "print('GPU availability:', chainer.cuda.available)\n",
    "print('cuDNN availablility:', chainer.cuda.cudnn_enabled)"
   ]
  },
  {
   "cell_type": "code",
   "execution_count": 6,
   "metadata": {
    "colab": {
     "autoexec": {
      "startup": false,
      "wait_interval": 0
     }
    },
    "colab_type": "code",
    "id": "ONfS74LHGkBS"
   },
   "outputs": [],
   "source": [
    "train, test = mnist.get_mnist()\n",
    "\n",
    "batchsize = 128\n",
    "\n",
    "train_iter = iterators.SerialIterator(train, batchsize)\n",
    "test_iter = iterators.SerialIterator(test, batchsize, False, False)"
   ]
  },
  {
   "cell_type": "code",
   "execution_count": 7,
   "metadata": {
    "colab": {
     "autoexec": {
      "startup": false,
      "wait_interval": 0
     }
    },
    "colab_type": "code",
    "id": "JZFHYARDGp7y"
   },
   "outputs": [],
   "source": [
    "class MLP(Chain):\n",
    "\n",
    "    def __init__(self, n_mid_units=100, n_out=10):\n",
    "        super(MLP, self).__init__()\n",
    "        with self.init_scope():\n",
    "            self.l1 = L.Linear(None, n_mid_units)\n",
    "            self.l2 = L.Linear(None, n_mid_units)\n",
    "            self.l3 = L.Linear(None, n_out)\n",
    "\n",
    "    def __call__(self, x):\n",
    "        h1 = F.relu(self.l1(x))\n",
    "        h2 = F.relu(self.l2(h1))\n",
    "        return self.l3(h2)\n",
    "\n",
    "model = MLP()"
   ]
  },
  {
   "cell_type": "code",
   "execution_count": 8,
   "metadata": {
    "colab": {
     "autoexec": {
      "startup": false,
      "wait_interval": 0
     }
    },
    "colab_type": "code",
    "id": "km_YaPIfG5HN"
   },
   "outputs": [],
   "source": [
    "max_epoch = 10\n",
    "\n",
    "model = L.Classifier(model)\n",
    "\n",
    "gpu_id = 0  # Set to -1 if you use CPU\n",
    "if gpu_id >= 0:\n",
    "    model.to_gpu(gpu_id)  # If you use CPU, comment out this line\n",
    "\n",
    "# selection of your optimizing method\n",
    "optimizer = optimizers.MomentumSGD()\n",
    "\n",
    "# Give the optimizer a reference to the model\n",
    "optimizer.setup(model)\n",
    "\n",
    "# Get an updater that uses the Iterator and Optimizer\n",
    "updater = training.StandardUpdater(train_iter, optimizer, device=gpu_id)\n",
    "\n",
    "# Setup a Trainer\n",
    "trainer = training.Trainer(updater, (max_epoch, 'epoch'), out='mnist_result')"
   ]
  },
  {
   "cell_type": "code",
   "execution_count": 9,
   "metadata": {
    "colab": {
     "autoexec": {
      "startup": false,
      "wait_interval": 0
     }
    },
    "colab_type": "code",
    "id": "MdkorboDHEOR"
   },
   "outputs": [],
   "source": [
    "trainer.extend(extensions.LogReport())\n",
    "trainer.extend(extensions.snapshot(filename='snapshot_epoch-{.updater.epoch}'))\n",
    "trainer.extend(extensions.snapshot_object(model.predictor, filename='model_epoch-{.updater.epoch}'))\n",
    "trainer.extend(extensions.Evaluator(test_iter, model, device=gpu_id))\n",
    "trainer.extend(extensions.PrintReport(['epoch', 'main/loss', 'main/accuracy', 'validation/main/loss', 'validation/main/accuracy', 'elapsed_time']))\n",
    "trainer.extend(extensions.PlotReport(['main/loss', 'validation/main/loss'], x_key='epoch', file_name='loss.png'))\n",
    "trainer.extend(extensions.PlotReport(['main/accuracy', 'validation/main/accuracy'], x_key='epoch', file_name='accuracy.png'))\n",
    "trainer.extend(extensions.dump_graph('main/loss'))"
   ]
  },
  {
   "cell_type": "code",
   "execution_count": 10,
   "metadata": {
    "colab": {
     "autoexec": {
      "startup": false,
      "wait_interval": 0
     },
     "base_uri": "https://localhost:8080/",
     "height": 224,
     "output_extras": [
      {}
     ]
    },
    "colab_type": "code",
    "executionInfo": {
     "elapsed": 43610,
     "status": "ok",
     "timestamp": 1517903824865,
     "user": {
      "displayName": "Shunta Saito",
      "photoUrl": "//lh3.googleusercontent.com/-g04xgJXWJho/AAAAAAAAAAI/AAAAAAAAa4U/ziA9_Ms_-q0/s50-c-k-no/photo.jpg",
      "userId": "115134069711430507338"
     },
     "user_tz": -540
    },
    "id": "OJZSdANJHGVO",
    "outputId": "b2eb17bf-9c24-4cc1-b40f-157c48aac1c9"
   },
   "outputs": [
    {
     "name": "stdout",
     "output_type": "stream",
     "text": [
      "epoch       main/loss   main/accuracy  validation/main/loss  validation/main/accuracy  elapsed_time\n",
      "\u001b[J1           0.5417      0.84948        0.266372              0.925138                  5.92701       \n",
      "\u001b[J2           0.239354    0.930804       0.197025              0.940566                  7.71467       \n",
      "\u001b[J3           0.180361    0.947561       0.156134              0.954213                  9.53547       \n",
      "\u001b[J4           0.144926    0.957833       0.131461              0.959949                  11.3269       \n",
      "\u001b[J5           0.121413    0.963869       0.121639              0.96163                   13.1248       \n",
      "\u001b[J6           0.102957    0.969383       0.108973              0.966475                  14.9067       \n",
      "\u001b[J7           0.089181    0.973797       0.100363              0.970233                  16.673        \n",
      "\u001b[J8           0.0793408   0.975861       0.0944187             0.969937                  18.4409       \n",
      "\u001b[J9           0.0702693   0.979028       0.0855501             0.97498                   20.2464       \n",
      "\u001b[J10          0.0631615   0.981493       0.0816412             0.975475                  22.0537       \n"
     ]
    }
   ],
   "source": [
    "trainer.run()"
   ]
  },
  {
   "cell_type": "code",
   "execution_count": 11,
   "metadata": {
    "colab": {
     "autoexec": {
      "startup": false,
      "wait_interval": 0
     },
     "base_uri": "https://localhost:8080/",
     "height": 361,
     "output_extras": [
      {}
     ]
    },
    "colab_type": "code",
    "executionInfo": {
     "elapsed": 536,
     "status": "ok",
     "timestamp": 1517903828152,
     "user": {
      "displayName": "Shunta Saito",
      "photoUrl": "//lh3.googleusercontent.com/-g04xgJXWJho/AAAAAAAAAAI/AAAAAAAAa4U/ziA9_Ms_-q0/s50-c-k-no/photo.jpg",
      "userId": "115134069711430507338"
     },
     "user_tz": -540
    },
    "id": "6_jV6t2wHkPA",
    "outputId": "6aa3cc18-f03f-486e-e82b-901b8b958276"
   },
   "outputs": [
    {
     "data": {
      "image/png": "[encoded data removed]",
      "text/plain": [
       "<IPython.core.display.Image object>"
      ]
     },
     "execution_count": 11,
     "metadata": {},
     "output_type": "execute_result"
    }
   ],
   "source": [
    "from IPython.display import Image\n",
    "Image('mnist_result/loss.png')"
   ]
  },
  {
   "cell_type": "code",
   "execution_count": 12,
   "metadata": {
    "colab": {
     "autoexec": {
      "startup": false,
      "wait_interval": 0
     },
     "base_uri": "https://localhost:8080/",
     "height": 361,
     "output_extras": [
      {}
     ]
    },
    "colab_type": "code",
    "executionInfo": {
     "elapsed": 542,
     "status": "ok",
     "timestamp": 1517903838127,
     "user": {
      "displayName": "Shunta Saito",
      "photoUrl": "//lh3.googleusercontent.com/-g04xgJXWJho/AAAAAAAAAAI/AAAAAAAAa4U/ziA9_Ms_-q0/s50-c-k-no/photo.jpg",
      "userId": "115134069711430507338"
     },
     "user_tz": -540
    },
    "id": "n-p7ECwcHnGA",
    "outputId": "3786ab7d-137d-43a7-c3c2-7c27772fb365"
   },
   "outputs": [
    {
     "data": {
      "image/png": "[encoded data removed]",
      "text/plain": [
       "<IPython.core.display.Image object>"
      ]
     },
     "execution_count": 12,
     "metadata": {},
     "output_type": "execute_result"
    }
   ],
   "source": [
    "Image('mnist_result/accuracy.png')"
   ]
  },
  {
   "cell_type": "code",
   "execution_count": 13,
   "metadata": {},
   "outputs": [
    {
     "name": "stdout",
     "output_type": "stream",
     "text": [
      "label: 2\n",
      "inference: 2\n"
     ]
    },
    {
     "data": {
      "image/png": "[encoded data removed]",
      "text/plain": [
       "<Figure size 432x288 with 1 Axes>"
      ]
     },
     "metadata": {},
     "output_type": "display_data"
    }
   ],
   "source": [
    "from IPython.display import display\n",
    "model.to_cpu()\n",
    "\"\"\"\n",
    "学習済みモデルを使って、推論をしてみる。\n",
    "serializers.save_npz('my_mnist.model',model)\n",
    "\"\"\"\n",
    "\n",
    "img_flattened, label = train[5]\n",
    "img_reshaped = img_flattened.reshape(28,28)\n",
    "plt.imshow(img_reshaped ,cmap='Greys')\n",
    "print('label: %s' % label)\n",
    "\n",
    "res_var = model.predictor(img_flattened.reshape(1,28*28))\n",
    "res     = res_var.data.argmax()\n",
    "print('inference: %s' % res)"
   ]
  },
  {
   "cell_type": "code",
   "execution_count": 14,
   "metadata": {},
   "outputs": [
    {
     "name": "stdout",
     "output_type": "stream",
     "text": [
      "float32\n",
      "inference: 7\n"
     ]
    },
    {
     "data": {
      "image/png": "[encoded data removed]",
      "text/plain": [
       "<Figure size 432x288 with 1 Axes>"
      ]
     },
     "metadata": {},
     "output_type": "display_data"
    }
   ],
   "source": [
    "from PIL import Image\n",
    "my_test = Image.open('7_28x28.png').convert('L')\n",
    "my_test_arr = np.asarray(my_test)\n",
    "my_test_arr = (1 - my_test_arr/255).astype('float32')\n",
    "print(my_test_arr.dtype)\n",
    "plt.imshow(my_test_arr, cmap='Greys')\n",
    "res_var = model.predictor(my_test_arr.reshape(1,28*28))\n",
    "res     = res_var.data.argmax()\n",
    "print('inference: %s' % res)"
   ]
  },
  {
   "cell_type": "code",
   "execution_count": null,
   "metadata": {},
   "outputs": [],
   "source": []
  }
 ],
 "metadata": {
  "accelerator": "GPU",
  "colab": {
   "collapsed_sections": [],
   "default_view": {},
   "name": "Chainer MNIST Example.ipynb",
   "provenance": [],
   "version": "0.3.2",
   "views": {}
  },
  "kernelspec": {
   "display_name": "Python 3",
   "language": "python",
   "name": "python3"
  },
  "language_info": {
   "codemirror_mode": {
    "name": "ipython",
    "version": 3
   },
   "file_extension": ".py",
   "mimetype": "text/x-python",
   "name": "python",
   "nbconvert_exporter": "python",
   "pygments_lexer": "ipython3",
   "version": "3.7.0"
  }
 },
 "nbformat": 4,
 "nbformat_minor": 1
}
